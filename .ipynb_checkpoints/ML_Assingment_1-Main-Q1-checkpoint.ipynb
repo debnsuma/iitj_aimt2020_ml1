{
 "cells": [
  {
   "cell_type": "markdown",
   "metadata": {},
   "source": [
    "## Question 2."
   ]
  },
  {
   "cell_type": "markdown",
   "metadata": {},
   "source": [
    "Evaluation metrics and evaluation metrics.\n",
    "1. Implement ID3 Algorithm for Decision Tree discussed in class from scratch, the data can be\n",
    "downloaded from this link. You have to use entropy based Information Gain calculation method\n",
    "(as discussed in class) to evaluate different splits. Report Accuracy, Confusion Matrix and F1\n",
    "Score in the report. What do you think is a good measure - Accuracy or F1 score, support your\n",
    "answer with proper claims.\n",
    "2. Implement Decision Tree using sklearn library on the same data. (using gini index to calculate\n",
    "Information Gain).\n",
    "3. Compare results of A and B, report the analysis.                        \n",
    "\n",
    "\n",
    "`25 + 5 + 5 = 30 marks`"
   ]
  },
  {
   "cell_type": "code",
   "execution_count": 1,
   "metadata": {},
   "outputs": [],
   "source": [
    "import numpy as np\n",
    "import pandas as pd "
   ]
  },
  {
   "cell_type": "code",
   "execution_count": 2,
   "metadata": {},
   "outputs": [],
   "source": [
    "file_name = \"wifi_localization.txt\""
   ]
  },
  {
   "cell_type": "markdown",
   "metadata": {},
   "source": [
    "### Loading the dataset"
   ]
  },
  {
   "cell_type": "code",
   "execution_count": 3,
   "metadata": {},
   "outputs": [],
   "source": [
    "df = pd.read_csv(file_name, delimiter=\"\\t\", header=None)"
   ]
  },
  {
   "cell_type": "code",
   "execution_count": 4,
   "metadata": {},
   "outputs": [
    {
     "data": {
      "text/plain": [
       "(2000, 8)"
      ]
     },
     "execution_count": 4,
     "metadata": {},
     "output_type": "execute_result"
    }
   ],
   "source": [
    "df.shape"
   ]
  },
  {
   "cell_type": "code",
   "execution_count": 5,
   "metadata": {
    "scrolled": true
   },
   "outputs": [],
   "source": [
    "df.columns = [\"x1\", \"x2\", \"x3\", \"x4\", \"x5\", \"x6\", \"x7\", \"class_label\"]"
   ]
  },
  {
   "cell_type": "code",
   "execution_count": 6,
   "metadata": {},
   "outputs": [
    {
     "data": {
      "text/html": [
       "<div>\n",
       "<style scoped>\n",
       "    .dataframe tbody tr th:only-of-type {\n",
       "        vertical-align: middle;\n",
       "    }\n",
       "\n",
       "    .dataframe tbody tr th {\n",
       "        vertical-align: top;\n",
       "    }\n",
       "\n",
       "    .dataframe thead th {\n",
       "        text-align: right;\n",
       "    }\n",
       "</style>\n",
       "<table border=\"1\" class=\"dataframe\">\n",
       "  <thead>\n",
       "    <tr style=\"text-align: right;\">\n",
       "      <th></th>\n",
       "      <th>x1</th>\n",
       "      <th>x2</th>\n",
       "      <th>x3</th>\n",
       "      <th>x4</th>\n",
       "      <th>x5</th>\n",
       "      <th>x6</th>\n",
       "      <th>x7</th>\n",
       "      <th>class_label</th>\n",
       "    </tr>\n",
       "  </thead>\n",
       "  <tbody>\n",
       "    <tr>\n",
       "      <th>0</th>\n",
       "      <td>-64</td>\n",
       "      <td>-56</td>\n",
       "      <td>-61</td>\n",
       "      <td>-66</td>\n",
       "      <td>-71</td>\n",
       "      <td>-82</td>\n",
       "      <td>-81</td>\n",
       "      <td>1</td>\n",
       "    </tr>\n",
       "    <tr>\n",
       "      <th>1</th>\n",
       "      <td>-68</td>\n",
       "      <td>-57</td>\n",
       "      <td>-61</td>\n",
       "      <td>-65</td>\n",
       "      <td>-71</td>\n",
       "      <td>-85</td>\n",
       "      <td>-85</td>\n",
       "      <td>1</td>\n",
       "    </tr>\n",
       "    <tr>\n",
       "      <th>2</th>\n",
       "      <td>-63</td>\n",
       "      <td>-60</td>\n",
       "      <td>-60</td>\n",
       "      <td>-67</td>\n",
       "      <td>-76</td>\n",
       "      <td>-85</td>\n",
       "      <td>-84</td>\n",
       "      <td>1</td>\n",
       "    </tr>\n",
       "    <tr>\n",
       "      <th>3</th>\n",
       "      <td>-61</td>\n",
       "      <td>-60</td>\n",
       "      <td>-68</td>\n",
       "      <td>-62</td>\n",
       "      <td>-77</td>\n",
       "      <td>-90</td>\n",
       "      <td>-80</td>\n",
       "      <td>1</td>\n",
       "    </tr>\n",
       "    <tr>\n",
       "      <th>4</th>\n",
       "      <td>-63</td>\n",
       "      <td>-65</td>\n",
       "      <td>-60</td>\n",
       "      <td>-63</td>\n",
       "      <td>-77</td>\n",
       "      <td>-81</td>\n",
       "      <td>-87</td>\n",
       "      <td>1</td>\n",
       "    </tr>\n",
       "  </tbody>\n",
       "</table>\n",
       "</div>"
      ],
      "text/plain": [
       "   x1  x2  x3  x4  x5  x6  x7  class_label\n",
       "0 -64 -56 -61 -66 -71 -82 -81            1\n",
       "1 -68 -57 -61 -65 -71 -85 -85            1\n",
       "2 -63 -60 -60 -67 -76 -85 -84            1\n",
       "3 -61 -60 -68 -62 -77 -90 -80            1\n",
       "4 -63 -65 -60 -63 -77 -81 -87            1"
      ]
     },
     "execution_count": 6,
     "metadata": {},
     "output_type": "execute_result"
    }
   ],
   "source": [
    "df.head()"
   ]
  },
  {
   "cell_type": "code",
   "execution_count": 7,
   "metadata": {},
   "outputs": [],
   "source": [
    "# Shuffling the dataset \n",
    "\n",
    "df = df.sample(frac=1).reset_index(drop=True)"
   ]
  },
  {
   "cell_type": "code",
   "execution_count": 8,
   "metadata": {},
   "outputs": [
    {
     "data": {
      "text/html": [
       "<div>\n",
       "<style scoped>\n",
       "    .dataframe tbody tr th:only-of-type {\n",
       "        vertical-align: middle;\n",
       "    }\n",
       "\n",
       "    .dataframe tbody tr th {\n",
       "        vertical-align: top;\n",
       "    }\n",
       "\n",
       "    .dataframe thead th {\n",
       "        text-align: right;\n",
       "    }\n",
       "</style>\n",
       "<table border=\"1\" class=\"dataframe\">\n",
       "  <thead>\n",
       "    <tr style=\"text-align: right;\">\n",
       "      <th></th>\n",
       "      <th>x1</th>\n",
       "      <th>x2</th>\n",
       "      <th>x3</th>\n",
       "      <th>x4</th>\n",
       "      <th>x5</th>\n",
       "      <th>x6</th>\n",
       "      <th>x7</th>\n",
       "      <th>class_label</th>\n",
       "    </tr>\n",
       "  </thead>\n",
       "  <tbody>\n",
       "    <tr>\n",
       "      <th>0</th>\n",
       "      <td>-59</td>\n",
       "      <td>-52</td>\n",
       "      <td>-55</td>\n",
       "      <td>-60</td>\n",
       "      <td>-55</td>\n",
       "      <td>-87</td>\n",
       "      <td>-88</td>\n",
       "      <td>4</td>\n",
       "    </tr>\n",
       "    <tr>\n",
       "      <th>1</th>\n",
       "      <td>-59</td>\n",
       "      <td>-51</td>\n",
       "      <td>-55</td>\n",
       "      <td>-59</td>\n",
       "      <td>-54</td>\n",
       "      <td>-87</td>\n",
       "      <td>-88</td>\n",
       "      <td>4</td>\n",
       "    </tr>\n",
       "    <tr>\n",
       "      <th>2</th>\n",
       "      <td>-63</td>\n",
       "      <td>-48</td>\n",
       "      <td>-51</td>\n",
       "      <td>-59</td>\n",
       "      <td>-69</td>\n",
       "      <td>-77</td>\n",
       "      <td>-82</td>\n",
       "      <td>1</td>\n",
       "    </tr>\n",
       "    <tr>\n",
       "      <th>3</th>\n",
       "      <td>-52</td>\n",
       "      <td>-54</td>\n",
       "      <td>-49</td>\n",
       "      <td>-52</td>\n",
       "      <td>-58</td>\n",
       "      <td>-81</td>\n",
       "      <td>-82</td>\n",
       "      <td>3</td>\n",
       "    </tr>\n",
       "    <tr>\n",
       "      <th>4</th>\n",
       "      <td>-60</td>\n",
       "      <td>-55</td>\n",
       "      <td>-58</td>\n",
       "      <td>-61</td>\n",
       "      <td>-72</td>\n",
       "      <td>-83</td>\n",
       "      <td>-82</td>\n",
       "      <td>1</td>\n",
       "    </tr>\n",
       "  </tbody>\n",
       "</table>\n",
       "</div>"
      ],
      "text/plain": [
       "   x1  x2  x3  x4  x5  x6  x7  class_label\n",
       "0 -59 -52 -55 -60 -55 -87 -88            4\n",
       "1 -59 -51 -55 -59 -54 -87 -88            4\n",
       "2 -63 -48 -51 -59 -69 -77 -82            1\n",
       "3 -52 -54 -49 -52 -58 -81 -82            3\n",
       "4 -60 -55 -58 -61 -72 -83 -82            1"
      ]
     },
     "execution_count": 8,
     "metadata": {},
     "output_type": "execute_result"
    }
   ],
   "source": [
    "df.head()"
   ]
  },
  {
   "cell_type": "markdown",
   "metadata": {},
   "source": [
    "### Entropy Function"
   ]
  },
  {
   "cell_type": "code",
   "execution_count": 9,
   "metadata": {},
   "outputs": [],
   "source": [
    "def get_entropy(target_column_array):\n",
    "    \"\"\"\n",
    "    target_column_array: target_array \n",
    "    returns: the entroy for that column\n",
    "    \"\"\"\n",
    "    l = target_column_array.shape[0]\n",
    "    a, b = np.unique(target_column_array, return_counts=True)\n",
    "    entropy = sum([-(i/l) * np.log2(i/l) for i in b])\n",
    "    \n",
    "    return entropy"
   ]
  },
  {
   "cell_type": "code",
   "execution_count": 13,
   "metadata": {
    "scrolled": true
   },
   "outputs": [
    {
     "name": "stdout",
     "output_type": "stream",
     "text": [
      "2.0\n"
     ]
    }
   ],
   "source": [
    "target_column_array = df[\"class_label\"]\n",
    "print(get_entropy(target_column_array))"
   ]
  },
  {
   "cell_type": "code",
   "execution_count": 66,
   "metadata": {},
   "outputs": [],
   "source": [
    "def get_information_gain(data,split_attribute_name,target_name=\"class_label\"):\n",
    "    \"\"\"\n",
    "    Calculate the information gain of a dataset. \n",
    "    data:  The dataset for whose feature the IG should be calculated\n",
    "    split_attribute_name: The name of the feature for which the information gain should be calculated\n",
    "    target_name:  The name of the target feature\n",
    "    \n",
    "    return: ig, information gain\n",
    "    \"\"\"    \n",
    "    #Calculate the entropy of the total dataset\n",
    "    total_entro = get_entropy(data[target_name])\n",
    "    \n",
    "    ##Calculate the entropy of the dataset\n",
    "    \n",
    "    #Calculate the values and the corresponding counts for the split attribute \n",
    "    vals,counts= np.unique(data[split_attribute_name],return_counts=True)\n",
    "    \n",
    "    #Calculate the weighted entropy\n",
    "    weighted_entro = np.sum([(counts[i]/np.sum(counts))*entropy(data.where(data[split_attribute_name]==vals[i]).dropna()[target_name]) for i in range(len(vals))])\n",
    "    \n",
    "    #Calculate the information gain\n",
    "    ig = total_entro - weighted_entro\n",
    "    \n",
    "    return ig"
   ]
  },
  {
   "cell_type": "code",
   "execution_count": 67,
   "metadata": {},
   "outputs": [],
   "source": [
    "def ID3(data,originaldata,features,target_attribute_name=\"class_label\",parent_node_class = None):\n",
    "    \"\"\"\n",
    "    ID3 Algorithm: This function takes five paramters:\n",
    "    1. data = the data for which the ID3 algorithm should be run --> In the first run this equals the total dataset\n",
    " \n",
    "    2. originaldata = This is the original dataset needed to calculate the mode target feature value of the original dataset\n",
    "    in the case the dataset delivered by the first parameter is empty\n",
    "\n",
    "    3. features = the feature space of the dataset . This is needed for the recursive call since during the tree growing process\n",
    "    we have to remove features from our dataset --> Splitting at each node\n",
    "\n",
    "    4. target_attribute_name = the name of the target attribute\n",
    "\n",
    "    5. parent_node_class = This is the value or class of the mode target feature value of the parent node for a specific node. This is \n",
    "    also needed for the recursive call since if the splitting leads to a situation that there are no more features left in the feature\n",
    "    space, we want to return the mode target feature value of the direct parent node.\n",
    "    \"\"\"   \n",
    "    #Define the stopping criteria --> If one of this is satisfied, we want to return a leaf node#\n",
    "    \n",
    "    #If all target_values have the same value, return this value\n",
    "    if len(np.unique(data[target_attribute_name])) <= 1:\n",
    "        return np.unique(data[target_attribute_name])[0]\n",
    "    \n",
    "    #If the dataset is empty, return the mode target feature value in the original dataset\n",
    "    elif len(data)==0:\n",
    "        return np.unique(originaldata[target_attribute_name])[np.argmax(np.unique(originaldata[target_attribute_name],return_counts=True)[1])]\n",
    "    \n",
    "    #If the feature space is empty, return the mode target feature value of the direct parent node --> Note that\n",
    "    #the direct parent node is that node which has called the current run of the ID3 algorithm and hence\n",
    "    #the mode target feature value is stored in the parent_node_class variable.\n",
    "    \n",
    "    elif len(features) ==0:\n",
    "        return parent_node_class\n",
    "    \n",
    "    #If none of the above holds true, grow the tree!\n",
    "    \n",
    "    else:\n",
    "        #Set the default value for this node --> The mode target feature value of the current node\n",
    "        parent_node_class = np.unique(data[target_attribute_name])[np.argmax(np.unique(data[target_attribute_name],return_counts=True)[1])]\n",
    "        \n",
    "        #Select the feature which best splits the dataset\n",
    "        item_values = [InfoGain(data,feature,target_attribute_name) for feature in features] #Return the information gain values for the features in the dataset\n",
    "        best_feature_index = np.argmax(item_values)\n",
    "        best_feature = features[best_feature_index]\n",
    "        \n",
    "        #Create the tree structure. The root gets the name of the feature (best_feature) with the maximum information\n",
    "        #gain in the first run\n",
    "        tree = {best_feature:{}}\n",
    "        \n",
    "        \n",
    "        #Remove the feature with the best inforamtion gain from the feature space\n",
    "        features = [i for i in features if i != best_feature]\n",
    "        \n",
    "        #Grow a branch under the root node for each possible value of the root node feature\n",
    "        \n",
    "        for value in np.unique(data[best_feature]):\n",
    "            value = value\n",
    "            #Split the dataset along the value of the feature with the largest information gain and therwith create sub_datasets\n",
    "            sub_data = data.where(data[best_feature] == value).dropna()\n",
    "            \n",
    "            #Call the ID3 algorithm for each of those sub_datasets with the new parameters --> Here the recursion comes in!\n",
    "            subtree = ID3(sub_data,dataset,features,target_attribute_name,parent_node_class)\n",
    "            \n",
    "            #Add the sub tree, grown from the sub_dataset to the tree under the root node\n",
    "            tree[best_feature][value] = subtree\n",
    "            \n",
    "        return(tree)"
   ]
  },
  {
   "cell_type": "code",
   "execution_count": 68,
   "metadata": {},
   "outputs": [],
   "source": [
    "def predict(query,tree,default = 1):\n",
    "    \"\"\"\n",
    "    Prediction of a new/unseen query instance. This takes two parameters:\n",
    "    1. The query instance as a dictionary of the shape {\"feature_name\":feature_value,...}\n",
    "\n",
    "    2. The tree \n",
    "\n",
    "\n",
    "    We do this also in a recursive manner. That is, we wander down the tree and check if we have reached a leaf or if we are still in a sub tree. \n",
    "    Since this is a important step to understand, the single steps are extensively commented below.\n",
    "\n",
    "    1.Check for every feature in the query instance if this feature is existing in the tree.keys() for the first call, \n",
    "    tree.keys() only contains the value for the root node \n",
    "    --> if this value is not existing, we can not make a prediction and have to \n",
    "    return the default value which is the majority value of the target feature\n",
    "\n",
    "    2. First of all we have to take care of a important fact: Since we train our model with a database A and then show our model\n",
    "    a unseen query it may happen that the feature values of these query are not existing in our tree model because non of the\n",
    "    training instances has had such a value for this specific feature. \n",
    "    For instance imagine the situation where your model has only seen animals with one to four\n",
    "    legs - The \"legs\" node in your model will only have four outgoing branches (from one to four). If you now show your model\n",
    "    a new instance (animal) which has for the legs feature the vale 5, you have to tell your model what to do in such a \n",
    "    situation because otherwise there is no classification possible because in the classification step you try to \n",
    "    run down the outgoing branch with the value 5 but there is no such a branch. Hence: Error and no Classification!\n",
    "    We can address this issue with a classification value of for instance (999) which tells us that there is no classification\n",
    "    possible or we assign the most frequent target feature value of our dataset used to train the model. Or, in for instance \n",
    "    medical application we can return the most worse case - just to make sure... \n",
    "    We can also return the most frequent value of the direct parent node. To make a long story short, we have to tell the model \n",
    "    what to do in this situation.\n",
    "    In our example, since we are dealing with animal species where a false classification is not that critical, we will assign\n",
    "    the value 1 which is the value for the mammal species (for convenience).\n",
    "\n",
    "    3. Address the key in the tree which fits the value for key --> Note that key == the features in the query. \n",
    "    Because we want the tree to predict the value which is hidden under the key value (imagine you have a drawn tree model on \n",
    "    the table in front of you and you have a query instance for which you want to predict the target feature \n",
    "    - What are you doing? - Correct:\n",
    "    You start at the root node and wander down the tree comparing your query to the node values. Hence you want to have the\n",
    "    value which is hidden under the current node. If this is a leaf, perfect, otherwise you wander the tree deeper until you\n",
    "    get to a leaf node. \n",
    "    Though, you want to have this \"something\" [either leaf or sub_tree] which is hidden under the current node\n",
    "    and hence we must address the node in the tree which == the key value from our query instance. \n",
    "    This is done with tree[keys]. Next you want to run down the branch of this node which is equal to the value given \"behind\"\n",
    "    the key value of your query instance e.g. if you find \"legs\" == to tree.keys() that is, for the first run == the root node.\n",
    "    You want to run deeper and therefore you have to address the branch at your node whose value is == to the value behind key.\n",
    "    This is done with query[key] e.g. query[key] == query['legs'] == 0 --> Therewith we run down the branch of the node with the\n",
    "    value 0. Summarized, in this step we want to address the node which is hidden behind a specific branch of the root node (in the first run)\n",
    "    this is done with: result = [key][query[key]]\n",
    "\n",
    "    4. As said in the 2. step, we run down the tree along nodes and branches until we get to a leaf node.\n",
    "    That is, if result = tree[key][query[key]] returns another tree object (we have represented this by a dict object --> \n",
    "    that is if result is a dict object) we know that we have not arrived at a root node and have to run deeper the tree. \n",
    "    Okay... Look at your drawn tree in front of you... what are you doing?...well, you run down the next branch... \n",
    "    exactly as we have done it above with the slight difference that we already have passed a node and therewith \n",
    "    have to run only a fraction of the tree --> You clever guy! That \"fraction of the tree\" is exactly what we have stored\n",
    "    under 'result'.\n",
    "    So we simply call our predict method using the same query instance (we do not have to drop any features from the query\n",
    "    instance since for instance the feature for the root node will not be available in any of the deeper sub_trees and hence \n",
    "    we will simply not find that feature) as well as the \"reduced / sub_tree\" stored in result.\n",
    "\n",
    "    SUMMARIZED: If we have a query instance consisting of values for features, we take this features and check if the \n",
    "    name of the root node is equal to one of the query features.\n",
    "    If this is true, we run down the root node outgoing branch whose value equals the value of query feature == the root node.\n",
    "    If we find at the end of this branch a leaf node (not a dict object) we return this value (this is our prediction).\n",
    "    If we instead find another node (== sub_tree == dict objct) we search in our query for the feature which equals the value \n",
    "    of that node. Next we look up the value of our query feature and run down the branch whose value is equal to the \n",
    "    query[key] == query feature value. And as you can see this is exactly the recursion we talked about\n",
    "    with the important fact that for each node we run down the tree, we check only the nodes and branches which are \n",
    "    below this node and do not run the whole tree beginning at the root node \n",
    "    --> This is why we re-call the classification function with 'result'\n",
    "    \"\"\"\n",
    "    \n",
    "    \n",
    "    #1.\n",
    "    for key in list(query.keys()):\n",
    "        if key in list(tree.keys()):\n",
    "            #2.\n",
    "            try:\n",
    "                result = tree[key][query[key]] \n",
    "            except:\n",
    "                return default\n",
    "  \n",
    "            #3.\n",
    "            result = tree[key][query[key]]\n",
    "            #4.\n",
    "            if isinstance(result,dict):\n",
    "                return predict(query,result)\n",
    "\n",
    "            else:\n",
    "                return result\n",
    "\n",
    "        "
   ]
  },
  {
   "cell_type": "code",
   "execution_count": 76,
   "metadata": {},
   "outputs": [],
   "source": [
    "def train_test_split(dataset, split_ratio=.80):\n",
    "    \n",
    "    total_rows = dataset.shape[0]\n",
    "    split = int(split_ratio * total_rows)\n",
    "    \n",
    "    training_data = dataset.iloc[:split].reset_index(drop=True)    \n",
    "    testing_data = dataset.iloc[split:].reset_index(drop=True)\n",
    "    \n",
    "    return training_data,testing_data\n",
    "\n",
    "training_data = train_test_split(df)[0]\n",
    "testing_data = train_test_split(df)[1] "
   ]
  },
  {
   "cell_type": "code",
   "execution_count": 78,
   "metadata": {},
   "outputs": [
    {
     "data": {
      "text/html": [
       "<div>\n",
       "<style scoped>\n",
       "    .dataframe tbody tr th:only-of-type {\n",
       "        vertical-align: middle;\n",
       "    }\n",
       "\n",
       "    .dataframe tbody tr th {\n",
       "        vertical-align: top;\n",
       "    }\n",
       "\n",
       "    .dataframe thead th {\n",
       "        text-align: right;\n",
       "    }\n",
       "</style>\n",
       "<table border=\"1\" class=\"dataframe\">\n",
       "  <thead>\n",
       "    <tr style=\"text-align: right;\">\n",
       "      <th></th>\n",
       "      <th>x1</th>\n",
       "      <th>x2</th>\n",
       "      <th>x3</th>\n",
       "      <th>x4</th>\n",
       "      <th>x5</th>\n",
       "      <th>x6</th>\n",
       "      <th>x7</th>\n",
       "      <th>class_label</th>\n",
       "    </tr>\n",
       "  </thead>\n",
       "  <tbody>\n",
       "    <tr>\n",
       "      <th>0</th>\n",
       "      <td>-67</td>\n",
       "      <td>-56</td>\n",
       "      <td>-60</td>\n",
       "      <td>-66</td>\n",
       "      <td>-73</td>\n",
       "      <td>-93</td>\n",
       "      <td>-87</td>\n",
       "      <td>1</td>\n",
       "    </tr>\n",
       "    <tr>\n",
       "      <th>1</th>\n",
       "      <td>-65</td>\n",
       "      <td>-58</td>\n",
       "      <td>-56</td>\n",
       "      <td>-61</td>\n",
       "      <td>-49</td>\n",
       "      <td>-89</td>\n",
       "      <td>-88</td>\n",
       "      <td>4</td>\n",
       "    </tr>\n",
       "    <tr>\n",
       "      <th>2</th>\n",
       "      <td>-19</td>\n",
       "      <td>-60</td>\n",
       "      <td>-56</td>\n",
       "      <td>-36</td>\n",
       "      <td>-63</td>\n",
       "      <td>-70</td>\n",
       "      <td>-75</td>\n",
       "      <td>2</td>\n",
       "    </tr>\n",
       "    <tr>\n",
       "      <th>3</th>\n",
       "      <td>-47</td>\n",
       "      <td>-46</td>\n",
       "      <td>-53</td>\n",
       "      <td>-46</td>\n",
       "      <td>-59</td>\n",
       "      <td>-79</td>\n",
       "      <td>-79</td>\n",
       "      <td>3</td>\n",
       "    </tr>\n",
       "    <tr>\n",
       "      <th>4</th>\n",
       "      <td>-34</td>\n",
       "      <td>-60</td>\n",
       "      <td>-52</td>\n",
       "      <td>-37</td>\n",
       "      <td>-71</td>\n",
       "      <td>-66</td>\n",
       "      <td>-75</td>\n",
       "      <td>2</td>\n",
       "    </tr>\n",
       "    <tr>\n",
       "      <th>...</th>\n",
       "      <td>...</td>\n",
       "      <td>...</td>\n",
       "      <td>...</td>\n",
       "      <td>...</td>\n",
       "      <td>...</td>\n",
       "      <td>...</td>\n",
       "      <td>...</td>\n",
       "      <td>...</td>\n",
       "    </tr>\n",
       "    <tr>\n",
       "      <th>395</th>\n",
       "      <td>-38</td>\n",
       "      <td>-55</td>\n",
       "      <td>-57</td>\n",
       "      <td>-37</td>\n",
       "      <td>-64</td>\n",
       "      <td>-68</td>\n",
       "      <td>-73</td>\n",
       "      <td>2</td>\n",
       "    </tr>\n",
       "    <tr>\n",
       "      <th>396</th>\n",
       "      <td>-53</td>\n",
       "      <td>-50</td>\n",
       "      <td>-50</td>\n",
       "      <td>-49</td>\n",
       "      <td>-61</td>\n",
       "      <td>-83</td>\n",
       "      <td>-84</td>\n",
       "      <td>3</td>\n",
       "    </tr>\n",
       "    <tr>\n",
       "      <th>397</th>\n",
       "      <td>-51</td>\n",
       "      <td>-55</td>\n",
       "      <td>-51</td>\n",
       "      <td>-48</td>\n",
       "      <td>-63</td>\n",
       "      <td>-88</td>\n",
       "      <td>-84</td>\n",
       "      <td>3</td>\n",
       "    </tr>\n",
       "    <tr>\n",
       "      <th>398</th>\n",
       "      <td>-62</td>\n",
       "      <td>-60</td>\n",
       "      <td>-61</td>\n",
       "      <td>-66</td>\n",
       "      <td>-69</td>\n",
       "      <td>-80</td>\n",
       "      <td>-86</td>\n",
       "      <td>1</td>\n",
       "    </tr>\n",
       "    <tr>\n",
       "      <th>399</th>\n",
       "      <td>-48</td>\n",
       "      <td>-57</td>\n",
       "      <td>-49</td>\n",
       "      <td>-53</td>\n",
       "      <td>-62</td>\n",
       "      <td>-79</td>\n",
       "      <td>-87</td>\n",
       "      <td>3</td>\n",
       "    </tr>\n",
       "  </tbody>\n",
       "</table>\n",
       "<p>400 rows × 8 columns</p>\n",
       "</div>"
      ],
      "text/plain": [
       "     x1  x2  x3  x4  x5  x6  x7  class_label\n",
       "0   -67 -56 -60 -66 -73 -93 -87            1\n",
       "1   -65 -58 -56 -61 -49 -89 -88            4\n",
       "2   -19 -60 -56 -36 -63 -70 -75            2\n",
       "3   -47 -46 -53 -46 -59 -79 -79            3\n",
       "4   -34 -60 -52 -37 -71 -66 -75            2\n",
       "..   ..  ..  ..  ..  ..  ..  ..          ...\n",
       "395 -38 -55 -57 -37 -64 -68 -73            2\n",
       "396 -53 -50 -50 -49 -61 -83 -84            3\n",
       "397 -51 -55 -51 -48 -63 -88 -84            3\n",
       "398 -62 -60 -61 -66 -69 -80 -86            1\n",
       "399 -48 -57 -49 -53 -62 -79 -87            3\n",
       "\n",
       "[400 rows x 8 columns]"
      ]
     },
     "execution_count": 78,
     "metadata": {},
     "output_type": "execute_result"
    }
   ],
   "source": [
    "testing_data"
   ]
  },
  {
   "cell_type": "code",
   "execution_count": 75,
   "metadata": {},
   "outputs": [
    {
     "data": {
      "text/plain": [
       "8970"
      ]
     },
     "execution_count": 75,
     "metadata": {},
     "output_type": "execute_result"
    }
   ],
   "source": [
    "int(11213*.8)"
   ]
  },
  {
   "cell_type": "code",
   "execution_count": null,
   "metadata": {},
   "outputs": [],
   "source": []
  },
  {
   "cell_type": "code",
   "execution_count": null,
   "metadata": {},
   "outputs": [],
   "source": []
  },
  {
   "cell_type": "code",
   "execution_count": null,
   "metadata": {},
   "outputs": [],
   "source": []
  },
  {
   "cell_type": "code",
   "execution_count": null,
   "metadata": {},
   "outputs": [],
   "source": []
  },
  {
   "cell_type": "code",
   "execution_count": null,
   "metadata": {},
   "outputs": [],
   "source": []
  },
  {
   "cell_type": "code",
   "execution_count": null,
   "metadata": {},
   "outputs": [],
   "source": []
  },
  {
   "cell_type": "code",
   "execution_count": null,
   "metadata": {},
   "outputs": [],
   "source": []
  },
  {
   "cell_type": "markdown",
   "metadata": {},
   "source": [
    "### Rough"
   ]
  },
  {
   "cell_type": "code",
   "execution_count": 34,
   "metadata": {},
   "outputs": [],
   "source": [
    "target_column_name = \"class_label\"\n",
    "split_column_name = \"x1\"\n",
    "\n",
    "target_column_array = df[target_column_name]\n",
    "split_column_array = df[split_column_name]"
   ]
  },
  {
   "cell_type": "code",
   "execution_count": 49,
   "metadata": {},
   "outputs": [],
   "source": [
    "target_name = \"class_label\"\n",
    "data = df\n",
    "split_attribute_name = \"x1\""
   ]
  },
  {
   "cell_type": "code",
   "execution_count": 51,
   "metadata": {},
   "outputs": [],
   "source": [
    "total_entro = get_entropy(data[target_name])"
   ]
  },
  {
   "cell_type": "code",
   "execution_count": 52,
   "metadata": {},
   "outputs": [
    {
     "data": {
      "text/plain": [
       "2.0"
      ]
     },
     "execution_count": 52,
     "metadata": {},
     "output_type": "execute_result"
    }
   ],
   "source": [
    "total_entro"
   ]
  },
  {
   "cell_type": "code",
   "execution_count": 53,
   "metadata": {},
   "outputs": [],
   "source": [
    "#Calculate the values and the corresponding counts for the split attribute \n",
    "vals,counts= np.unique(data[split_attribute_name],return_counts=True)"
   ]
  },
  {
   "cell_type": "code",
   "execution_count": 54,
   "metadata": {},
   "outputs": [
    {
     "data": {
      "text/plain": [
       "array([-74, -73, -72, -71, -70, -69, -68, -67, -66, -65, -64, -63, -62,\n",
       "       -61, -60, -59, -58, -57, -56, -55, -54, -53, -52, -51, -50, -49,\n",
       "       -48, -47, -46, -45, -44, -43, -42, -41, -40, -39, -38, -37, -36,\n",
       "       -35, -34, -27, -26, -21, -20, -19, -18, -17, -16, -15, -14, -13,\n",
       "       -12, -11, -10])"
      ]
     },
     "execution_count": 54,
     "metadata": {},
     "output_type": "execute_result"
    }
   ],
   "source": [
    "vals"
   ]
  },
  {
   "cell_type": "code",
   "execution_count": 55,
   "metadata": {},
   "outputs": [
    {
     "data": {
      "text/plain": [
       "array([  1,   3,   3,   4,   5,   6,  19,  26,  45,  57,  82,  99, 107,\n",
       "       118,  92, 131,  86,  61,  42,  25,  14,  37,  75,  77,  64,  84,\n",
       "        58,  39,  49,  41,  18,  27,  32,  32,  54,  33,  53,  51,  46,\n",
       "        27,  13,   3,   2,   1,   2,   8,   8,  11,   4,   4,   6,   4,\n",
       "         6,   2,   3])"
      ]
     },
     "execution_count": 55,
     "metadata": {},
     "output_type": "execute_result"
    }
   ],
   "source": [
    "counts"
   ]
  },
  {
   "cell_type": "code",
   "execution_count": null,
   "metadata": {},
   "outputs": [],
   "source": [
    "#Calculate the weighted entropy\n",
    "weighted_entro = np.sum([(counts[i]/np.sum(counts))*entropy(data.where(data[split_attribute_name]==vals[i]).dropna()[target_name]) \\\n",
    "                         for i in range(len(vals))])\n",
    "    "
   ]
  },
  {
   "cell_type": "code",
   "execution_count": 64,
   "metadata": {},
   "outputs": [
    {
     "data": {
      "text/plain": [
       "0.9982828462300606"
      ]
     },
     "execution_count": 64,
     "metadata": {},
     "output_type": "execute_result"
    }
   ],
   "source": [
    "get_entropy(data.where(data[split_attribute_name]==vals[10]).dropna()[target_name])"
   ]
  },
  {
   "cell_type": "code",
   "execution_count": 61,
   "metadata": {},
   "outputs": [
    {
     "data": {
      "text/plain": [
       "-64"
      ]
     },
     "execution_count": 61,
     "metadata": {},
     "output_type": "execute_result"
    }
   ],
   "source": [
    "vals[10]"
   ]
  },
  {
   "cell_type": "code",
   "execution_count": 62,
   "metadata": {},
   "outputs": [
    {
     "data": {
      "text/plain": [
       "82"
      ]
     },
     "execution_count": 62,
     "metadata": {},
     "output_type": "execute_result"
    }
   ],
   "source": [
    "counts[10]"
   ]
  },
  {
   "cell_type": "code",
   "execution_count": null,
   "metadata": {},
   "outputs": [],
   "source": []
  },
  {
   "cell_type": "code",
   "execution_count": null,
   "metadata": {},
   "outputs": [],
   "source": []
  },
  {
   "cell_type": "code",
   "execution_count": null,
   "metadata": {},
   "outputs": [],
   "source": []
  },
  {
   "cell_type": "code",
   "execution_count": null,
   "metadata": {},
   "outputs": [],
   "source": []
  },
  {
   "cell_type": "code",
   "execution_count": null,
   "metadata": {},
   "outputs": [],
   "source": [
    "def InfoGain(data,split_attribute_name,target_name=\"class\"):\n",
    "    \"\"\"\n",
    "    Calculate the information gain of a dataset. This function takes three parameters:\n",
    "    1. data = The dataset for whose feature the IG should be calculated\n",
    "    2. split_attribute_name = the name of the feature for which the information gain should be calculated\n",
    "    3. target_name = the name of the target feature. The default for this example is \"class\"\n",
    "    \"\"\"    \n",
    "    #Calculate the entropy of the total dataset\n",
    "    total_entropy = entropy(data[target_name])\n",
    "    \n",
    "    ##Calculate the entropy of the dataset\n",
    "    \n",
    "    #Calculate the values and the corresponding counts for the split attribute \n",
    "    vals,counts= np.unique(data[split_attribute_name],return_counts=True)\n",
    "    \n",
    "    #Calculate the weighted entropy\n",
    "    Weighted_Entropy = np.sum([(counts[i]/np.sum(counts))*entropy(data.where(data[split_attribute_name]==vals[i]).dropna()[target_name]) for i in range(len(vals))])\n",
    "    \n",
    "    #Calculate the information gain\n",
    "    Information_Gain = total_entropy - Weighted_Entropy\n",
    "    return Information_Gain"
   ]
  },
  {
   "cell_type": "code",
   "execution_count": null,
   "metadata": {},
   "outputs": [],
   "source": [
    "target_column_array = data_df[\"target_column_name\"]"
   ]
  }
 ],
 "metadata": {
  "kernelspec": {
   "display_name": "Python 3",
   "language": "python",
   "name": "python3"
  },
  "language_info": {
   "codemirror_mode": {
    "name": "ipython",
    "version": 3
   },
   "file_extension": ".py",
   "mimetype": "text/x-python",
   "name": "python",
   "nbconvert_exporter": "python",
   "pygments_lexer": "ipython3",
   "version": "3.7.6"
  }
 },
 "nbformat": 4,
 "nbformat_minor": 4
}
