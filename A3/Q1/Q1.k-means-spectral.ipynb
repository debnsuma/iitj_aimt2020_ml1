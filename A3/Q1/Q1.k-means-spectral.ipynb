{
 "cells": [
  {
   "cell_type": "markdown",
   "metadata": {},
   "source": [
    "# Download the dataset"
   ]
  },
  {
   "cell_type": "code",
   "execution_count": 1,
   "metadata": {
    "scrolled": true
   },
   "outputs": [],
   "source": [
    "#!wget http://cs.joensuu.fi/sipu/datasets/jain.txt"
   ]
  },
  {
   "cell_type": "markdown",
   "metadata": {},
   "source": [
    "# Importing the modules"
   ]
  },
  {
   "cell_type": "code",
   "execution_count": 2,
   "metadata": {},
   "outputs": [],
   "source": [
    "import numpy as np\n",
    "import pandas as pd\n",
    "import random\n",
    "from matplotlib import pyplot as plt\n"
   ]
  },
  {
   "cell_type": "markdown",
   "metadata": {},
   "source": [
    "# `PART I` : k-means Algorithm"
   ]
  },
  {
   "cell_type": "code",
   "execution_count": 3,
   "metadata": {},
   "outputs": [],
   "source": [
    "class KMeans:\n",
    "    \n",
    "    def __init__(self, k, data, stopper=100, show_plot=False):\n",
    "        self.k = k\n",
    "        self.data = data\n",
    "        self.centroides = np.array([])\n",
    "        self.clusters = [[] for c in range(self.k)]\n",
    "        \n",
    "        self.stopper = stopper\n",
    "        self.show_plot = show_plot\n",
    "        \n",
    "    def predict(self):\n",
    "        \n",
    "        # 1. Initialization \n",
    "        centroides_indices = np.random.choice(self.data.shape[0], size=self.k, replace=False)\n",
    "        self.centroides = self.data[centroides_indices, :]\n",
    "\n",
    "        for counter in range(self.stopper):\n",
    "            \n",
    "            # 2. Assignment of points to clusters\n",
    "            self._assign_clusters()\n",
    "\n",
    "            # 3. Recompute Centroid \n",
    "            self.old_centroids = self.centroides.copy()\n",
    "            self._compute_centroids()\n",
    "            \n",
    "            if self.show_plot:\n",
    "                self.plot()\n",
    "                pass\n",
    "            # 4. Check for Convergence\n",
    "            if self._converge():\n",
    "                if self.show_plot:\n",
    "                    self.plot()\n",
    "                break\n",
    "            else:\n",
    "                continue \n",
    "                \n",
    "        return self._predict_class()\n",
    "        \n",
    "    def _converge(self):\n",
    "\n",
    "        all_difference = []\n",
    "        for i in range(self.k):\n",
    "            _ = np.linalg.norm(self.centroides[i] - self.old_centroids[i])\n",
    "            all_difference.append(_.astype(int))\n",
    "        #print(all_difference)\n",
    "        if sum(all_difference) == 0:\n",
    "            return True \n",
    "        else:\n",
    "            return False\n",
    "    \n",
    "    def _compute_centroids(self):\n",
    "        self.centroides = []\n",
    "        for i in self.clusters:\n",
    "            new_centriod = np.mean(i, axis=0)\n",
    "            self.centroides.append(new_centriod)\n",
    "        \n",
    "        self.centroides = np.array(self.centroides)\n",
    "        \n",
    "    def _assign_clusters(self):\n",
    "        self.clusters = [[] for c in range(self.k)]\n",
    "        for p in self.data:\n",
    "            dist_p = []\n",
    "            for c in self.centroides:\n",
    "                d = np.linalg.norm(p-c)\n",
    "                dist_p.append(d)\n",
    "            a= np.argmin(dist_p)\n",
    "            self.clusters[a].append(p)\n",
    "    \n",
    "    def plot(self):\n",
    "        fig, ax = plt.subplots(figsize=(12, 8))\n",
    "\n",
    "        for i in self.clusters:\n",
    "            point = np.transpose(i)\n",
    "            ax.scatter(*point)\n",
    "\n",
    "        for point in self.centroides:\n",
    "            ax.scatter(*point, marker=\"D\", color='yellow', linewidth=4)\n",
    "\n",
    "        plt.show()\n",
    "        \n",
    "    def _predict_class(self):\n",
    "        predicted_class = []\n",
    "        for p in self.data:\n",
    "            for c, c_data in enumerate(self.clusters):\n",
    "                if (c_data == p).all(1).any():\n",
    "                    predicted_class.append(c)\n",
    "        \n",
    "        return predicted_class\n",
    "        "
   ]
  },
  {
   "cell_type": "code",
   "execution_count": 4,
   "metadata": {},
   "outputs": [],
   "source": [
    "def plot_data(clusters):\n",
    "\n",
    "    centroides = []\n",
    "    for i in clusters:\n",
    "        new_centriod = np.mean(i, axis=0)\n",
    "        centroides.append(new_centriod)\n",
    "\n",
    "    centroides = np.array(centroides)\n",
    "    \n",
    "    fig, ax = plt.subplots(figsize=(12, 8))\n",
    "\n",
    "    for i in clusters:\n",
    "        point = np.transpose(i)\n",
    "        ax.scatter(*point)\n",
    "\n",
    "    for point in centroides:\n",
    "        ax.scatter(*point, marker=\"D\", color='yellow', linewidth=4)\n",
    "\n",
    "    plt.show()"
   ]
  },
  {
   "cell_type": "code",
   "execution_count": 5,
   "metadata": {},
   "outputs": [],
   "source": [
    "def cluster_split(data, pc, k):\n",
    "\n",
    "    sc_clusters = [[] for c in range(k)]\n",
    "    for i in range(data.shape[0]):\n",
    "        cluser_id = pc[i]\n",
    "        #print(data[i,:], cluser_id)\n",
    "        sc_clusters[cluser_id].append(data[i,:])\n",
    "        \n",
    "    return sc_clusters"
   ]
  },
  {
   "cell_type": "markdown",
   "metadata": {},
   "source": [
    "# `main` starts from here for k-Means Clustering"
   ]
  },
  {
   "cell_type": "markdown",
   "metadata": {},
   "source": [
    "## 1. Loading the data "
   ]
  },
  {
   "cell_type": "code",
   "execution_count": 6,
   "metadata": {},
   "outputs": [],
   "source": [
    "file = \"jain.txt\"\n",
    "data = np.genfromtxt(file, delimiter = '\\t')\n",
    "np.random.seed(42)\n",
    "np.random.shuffle(data, )"
   ]
  },
  {
   "cell_type": "code",
   "execution_count": 7,
   "metadata": {},
   "outputs": [
    {
     "data": {
      "text/plain": [
       "(array([1., 2.]), array([276,  97]))"
      ]
     },
     "execution_count": 7,
     "metadata": {},
     "output_type": "execute_result"
    }
   ],
   "source": [
    "# Checking the distribution of data w.r.t different class \n",
    "np.unique(data[:, -1], return_counts=True)"
   ]
  },
  {
   "cell_type": "markdown",
   "metadata": {},
   "source": [
    "## 2.  Spliting the data into Features and Label"
   ]
  },
  {
   "cell_type": "code",
   "execution_count": 8,
   "metadata": {
    "scrolled": true
   },
   "outputs": [],
   "source": [
    "data_features = data[:, :-1]\n",
    "actual_label = data[:, -1]"
   ]
  },
  {
   "cell_type": "markdown",
   "metadata": {},
   "source": [
    "## 3. Prediction"
   ]
  },
  {
   "cell_type": "code",
   "execution_count": 9,
   "metadata": {},
   "outputs": [],
   "source": [
    "k = 2"
   ]
  },
  {
   "cell_type": "code",
   "execution_count": 10,
   "metadata": {},
   "outputs": [],
   "source": [
    "km = KMeans(k, data_features, show_plot=False)"
   ]
  },
  {
   "cell_type": "code",
   "execution_count": 11,
   "metadata": {
    "scrolled": true
   },
   "outputs": [],
   "source": [
    "predicted_label = km.predict()"
   ]
  },
  {
   "cell_type": "code",
   "execution_count": 12,
   "metadata": {},
   "outputs": [
    {
     "name": "stdout",
     "output_type": "stream",
     "text": [
      "[1, 0, 0, 1, 0, 1, 0, 0, 1, 0, 1, 0, 0, 0, 0, 1, 0, 1, 1, 0, 0, 0, 0, 1, 1, 0, 1, 1, 1, 1, 0, 0, 0, 1, 1, 0, 0, 0, 0, 0, 1, 1, 0, 1, 0, 0, 0, 0, 0, 0, 1, 0, 1, 1, 1, 1, 0, 0, 1, 0, 0, 1, 0, 0, 1, 0, 1, 1, 1, 0, 0, 1, 1, 1, 1, 1, 0, 0, 1, 0, 0, 1, 0, 0, 0, 1, 1, 1, 0, 0, 1, 0, 0, 1, 1, 1, 0, 0, 1, 0, 1, 1, 1, 1, 0, 1, 1, 1, 1, 1, 1, 0, 1, 0, 1, 0, 0, 0, 1, 0, 1, 0, 1, 0, 0, 0, 0, 0, 1, 0, 1, 0, 0, 0, 0, 0, 1, 1, 0, 1, 0, 0, 0, 1, 1, 1, 1, 1, 0, 1, 1, 0, 1, 0, 0, 1, 0, 1, 0, 0, 0, 0, 0, 0, 0, 1, 1, 0, 0, 0, 1, 0, 1, 0, 1, 0, 1, 1, 1, 1, 1, 0, 0, 0, 1, 0, 1, 0, 0, 1, 1, 0, 1, 1, 1, 1, 0, 1, 0, 0, 1, 1, 1, 0, 1, 0, 1, 1, 0, 0, 1, 1, 1, 0, 0, 1, 0, 0, 1, 0, 1, 1, 0, 0, 1, 0, 1, 0, 1, 0, 0, 0, 0, 0, 0, 0, 0, 0, 1, 1, 0, 1, 1, 0, 1, 0, 1, 1, 0, 1, 0, 1, 0, 0, 0, 1, 1, 1, 1, 0, 1, 1, 0, 1, 1, 1, 0, 0, 1, 0, 0, 0, 1, 1, 1, 0, 1, 1, 1, 0, 1, 0, 0, 0, 0, 0, 0, 0, 0, 0, 1, 1, 1, 1, 1, 1, 1, 1, 1, 1, 1, 1, 1, 1, 1, 0, 0, 1, 1, 1, 1, 0, 0, 0, 0, 0, 1, 0, 1, 0, 0, 1, 1, 0, 1, 0, 1, 0, 1, 1, 0, 1, 1, 1, 1, 0, 0, 0, 1, 1, 1, 0, 0, 0, 1, 1, 1, 0, 1, 0, 1, 1, 1, 1, 1, 1, 0, 0, 0, 1, 0, 0, 1, 1, 0, 1, 0, 1, 0, 0, 1, 1, 0]\n"
     ]
    }
   ],
   "source": [
    "print(predicted_label)"
   ]
  },
  {
   "cell_type": "code",
   "execution_count": 13,
   "metadata": {},
   "outputs": [
    {
     "data": {
      "image/png": "[encoded data removed]",
      "text/plain": [
       "<Figure size 864x576 with 1 Axes>"
      ]
     },
     "metadata": {
      "needs_background": "light"
     },
     "output_type": "display_data"
    }
   ],
   "source": [
    "plot_data(km.clusters)"
   ]
  },
  {
   "cell_type": "markdown",
   "metadata": {},
   "source": [
    "## 4. Accuracy of k-Means"
   ]
  },
  {
   "cell_type": "code",
   "execution_count": 14,
   "metadata": {
    "scrolled": false
   },
   "outputs": [],
   "source": [
    "from sklearn.metrics import accuracy_score, confusion_matrix"
   ]
  },
  {
   "cell_type": "code",
   "execution_count": 15,
   "metadata": {},
   "outputs": [],
   "source": [
    "actual_label_new_1 = [1 if i==1 else 0 for i in actual_label]"
   ]
  },
  {
   "cell_type": "code",
   "execution_count": 16,
   "metadata": {},
   "outputs": [
    {
     "data": {
      "text/plain": [
       "array([[ 96,   1],\n",
       "       [ 90, 186]])"
      ]
     },
     "execution_count": 16,
     "metadata": {},
     "output_type": "execute_result"
    }
   ],
   "source": [
    "confusion_matrix(actual_label_new_1, predicted_label)"
   ]
  },
  {
   "cell_type": "code",
   "execution_count": 17,
   "metadata": {},
   "outputs": [
    {
     "data": {
      "text/plain": [
       "0.7560321715817694"
      ]
     },
     "execution_count": 17,
     "metadata": {},
     "output_type": "execute_result"
    }
   ],
   "source": [
    "accuracy_score(actual_label_new_1, predicted_label)"
   ]
  },
  {
   "cell_type": "markdown",
   "metadata": {},
   "source": [
    "# `PART II` : Spectral Algorithm"
   ]
  },
  {
   "cell_type": "code",
   "execution_count": 18,
   "metadata": {},
   "outputs": [],
   "source": [
    "def get_distance(p1, p2):\n",
    "    \n",
    "    distance = np.linalg.norm(p1-p2)\n",
    "    \n",
    "    return distance "
   ]
  },
  {
   "cell_type": "code",
   "execution_count": 19,
   "metadata": {},
   "outputs": [],
   "source": [
    "def get_distance_matrix(data):\n",
    "    \n",
    "    no_points = data.shape[0]\n",
    "    distance_Matrix = np.zeros((no_points, no_points))\n",
    "\n",
    "    for index, x in np.ndenumerate(distance_Matrix):\n",
    "\n",
    "        p1 = data[index[0]]\n",
    "        p2 = data[index[1]]\n",
    "        \n",
    "        distance = get_distance(p1, p2)\n",
    "        distance_Matrix[index] = distance\n",
    "        \n",
    "    return distance_Matrix"
   ]
  },
  {
   "cell_type": "code",
   "execution_count": 20,
   "metadata": {},
   "outputs": [],
   "source": [
    "def get_matrix_W(data, sigma):\n",
    "    \n",
    "    return np.exp(-data*data/sigma)\n",
    "    "
   ]
  },
  {
   "cell_type": "code",
   "execution_count": 21,
   "metadata": {},
   "outputs": [],
   "source": [
    "def get_matrix_D(data):\n",
    "    \n",
    "    matrix_D = np.zeros((data.shape[0], data.shape[0]))\n",
    "\n",
    "    for index, x in np.ndenumerate(matrix_D):\n",
    "        r_num = index[0]\n",
    "        c_num = index[1]\n",
    "        if r_num == c_num:\n",
    "            d = sum(data[index[0]])\n",
    "            matrix_D[r_num][c_num] = d\n",
    "            \n",
    "    return matrix_D"
   ]
  },
  {
   "cell_type": "code",
   "execution_count": 22,
   "metadata": {},
   "outputs": [],
   "source": [
    "def get_matrix_H(matrix_L):\n",
    "\n",
    "    global k \n",
    "    eg_values, eg_vectors = np.linalg.eig(matrix_L)\n",
    "    idx = np.argsort(eg_values)[:k]\n",
    "\n",
    "    eg_vectors_new = []\n",
    "    for i in range(k):\n",
    "        eg_vectors_new.append(eg_vectors[:, idx[i]])\n",
    "\n",
    "    matrix_H = np.array(eg_vectors_new).T\n",
    "    \n",
    "    return matrix_H"
   ]
  },
  {
   "cell_type": "markdown",
   "metadata": {},
   "source": [
    "# `main` starts from here for Spectral Clustering"
   ]
  },
  {
   "cell_type": "markdown",
   "metadata": {},
   "source": [
    "## 1. Finding the `matrix_H`"
   ]
  },
  {
   "cell_type": "code",
   "execution_count": 23,
   "metadata": {},
   "outputs": [],
   "source": [
    "distance_matrix = get_distance_matrix(data_features)"
   ]
  },
  {
   "cell_type": "code",
   "execution_count": 24,
   "metadata": {},
   "outputs": [],
   "source": [
    "matrix_W = get_matrix_W(distance_matrix, 1)"
   ]
  },
  {
   "cell_type": "code",
   "execution_count": 25,
   "metadata": {},
   "outputs": [],
   "source": [
    "matrix_D = get_matrix_D(matrix_W)"
   ]
  },
  {
   "cell_type": "code",
   "execution_count": 26,
   "metadata": {},
   "outputs": [],
   "source": [
    "matrix_L = matrix_D - matrix_W"
   ]
  },
  {
   "cell_type": "code",
   "execution_count": 27,
   "metadata": {
    "scrolled": true
   },
   "outputs": [],
   "source": [
    "matrix_H = get_matrix_H(matrix_L)"
   ]
  },
  {
   "cell_type": "markdown",
   "metadata": {},
   "source": [
    "## 2. Prediction"
   ]
  },
  {
   "cell_type": "code",
   "execution_count": 28,
   "metadata": {},
   "outputs": [],
   "source": [
    "sc = KMeans(k, matrix_H, show_plot=False)"
   ]
  },
  {
   "cell_type": "code",
   "execution_count": 29,
   "metadata": {},
   "outputs": [],
   "source": [
    "predicted_class_spectral = sc.predict()"
   ]
  },
  {
   "cell_type": "code",
   "execution_count": 30,
   "metadata": {},
   "outputs": [],
   "source": [
    "data = cluster_split(data_features, predicted_class_spectral, k)"
   ]
  },
  {
   "cell_type": "code",
   "execution_count": 31,
   "metadata": {},
   "outputs": [
    {
     "data": {
      "image/png": "[encoded data removed]",
      "text/plain": [
       "<Figure size 864x576 with 1 Axes>"
      ]
     },
     "metadata": {
      "needs_background": "light"
     },
     "output_type": "display_data"
    }
   ],
   "source": [
    "plot_data(data)"
   ]
  },
  {
   "cell_type": "markdown",
   "metadata": {},
   "source": [
    "## 3. Accuracy of Spectral Cluster"
   ]
  },
  {
   "cell_type": "code",
   "execution_count": 32,
   "metadata": {},
   "outputs": [
    {
     "name": "stdout",
     "output_type": "stream",
     "text": [
      "[0, 1, 1, 0, 1, 0, 1, 0, 0, 0, 0, 1, 0, 1, 0, 0, 1, 0, 0, 0, 1, 0, 1, 0, 0, 0, 0, 0, 0, 0, 1, 0, 1, 0, 0, 0, 1, 1, 0, 0, 0, 0, 1, 0, 0, 0, 1, 1, 1, 1, 0, 0, 0, 0, 0, 0, 1, 1, 0, 1, 0, 0, 1, 1, 0, 1, 0, 0, 0, 1, 1, 0, 0, 0, 0, 0, 1, 1, 0, 1, 1, 0, 1, 0, 0, 0, 0, 0, 0, 0, 0, 1, 0, 0, 0, 0, 0, 1, 0, 1, 0, 0, 0, 0, 0, 0, 0, 0, 0, 0, 0, 0, 0, 1, 0, 1, 0, 1, 0, 0, 0, 0, 0, 1, 1, 0, 0, 0, 0, 0, 0, 0, 1, 0, 0, 1, 0, 0, 1, 0, 0, 1, 0, 0, 0, 0, 0, 0, 0, 0, 1, 1, 0, 1, 0, 0, 0, 0, 1, 1, 1, 0, 0, 1, 0, 0, 0, 0, 0, 0, 0, 1, 0, 0, 0, 0, 0, 0, 0, 0, 0, 0, 1, 1, 0, 0, 0, 0, 0, 0, 0, 0, 0, 0, 0, 0, 0, 0, 0, 0, 0, 0, 0, 1, 0, 0, 0, 0, 1, 0, 0, 0, 0, 0, 1, 0, 1, 1, 0, 0, 0, 0, 0, 0, 0, 1, 0, 1, 0, 1, 0, 1, 0, 1, 1, 1, 0, 0, 0, 0, 0, 0, 0, 0, 0, 1, 0, 0, 1, 0, 0, 0, 0, 1, 1, 0, 0, 0, 0, 1, 0, 0, 0, 0, 0, 0, 0, 0, 0, 1, 1, 1, 0, 0, 0, 1, 0, 0, 0, 0, 0, 0, 1, 0, 0, 1, 1, 1, 0, 1, 0, 0, 0, 0, 0, 0, 0, 0, 0, 0, 0, 0, 0, 0, 0, 0, 1, 0, 0, 0, 0, 0, 1, 1, 1, 1, 0, 1, 0, 1, 1, 0, 0, 1, 0, 1, 0, 0, 0, 0, 0, 0, 0, 0, 0, 1, 1, 0, 0, 0, 0, 0, 1, 1, 0, 0, 0, 1, 0, 0, 0, 0, 0, 0, 0, 0, 0, 0, 0, 0, 0, 1, 0, 0, 0, 0, 1, 0, 1, 0, 0, 0, 0]\n"
     ]
    }
   ],
   "source": [
    "print(predicted_class_spectral)"
   ]
  },
  {
   "cell_type": "code",
   "execution_count": 33,
   "metadata": {},
   "outputs": [],
   "source": [
    "actual_label_new_2 = [0 if i==1 else 1 for i in actual_label]"
   ]
  },
  {
   "cell_type": "code",
   "execution_count": 34,
   "metadata": {
    "scrolled": true
   },
   "outputs": [
    {
     "data": {
      "text/plain": [
       "1.0"
      ]
     },
     "execution_count": 34,
     "metadata": {},
     "output_type": "execute_result"
    }
   ],
   "source": [
    "accuracy_score(actual_label_new_2, predicted_class_spectral)"
   ]
  },
  {
   "cell_type": "code",
   "execution_count": 35,
   "metadata": {},
   "outputs": [
    {
     "data": {
      "text/plain": [
       "array([[276,   0],\n",
       "       [  0,  97]])"
      ]
     },
     "execution_count": 35,
     "metadata": {},
     "output_type": "execute_result"
    }
   ],
   "source": [
    "confusion_matrix(actual_label_new_2, predicted_class_spectral)"
   ]
  },
  {
   "cell_type": "markdown",
   "metadata": {},
   "source": [
    "# Actual Class (Ground Truth)"
   ]
  },
  {
   "cell_type": "code",
   "execution_count": 36,
   "metadata": {},
   "outputs": [
    {
     "name": "stdout",
     "output_type": "stream",
     "text": [
      "[1. 2. 2. 1. 2. 1. 2. 1. 1. 1. 1. 2. 1. 2. 1. 1. 2. 1. 1. 1. 2. 1. 2. 1.\n",
      " 1. 1. 1. 1. 1. 1. 2. 1. 2. 1. 1. 1. 2. 2. 1. 1. 1. 1. 2. 1. 1. 1. 2. 2.\n",
      " 2. 2. 1. 1. 1. 1. 1. 1. 2. 2. 1. 2. 1. 1. 2. 2. 1. 2. 1. 1. 1. 2. 2. 1.\n",
      " 1. 1. 1. 1. 2. 2. 1. 2. 2. 1. 2. 1. 1. 1. 1. 1. 1. 1. 1. 2. 1. 1. 1. 1.\n",
      " 1. 2. 1. 2. 1. 1. 1. 1. 1. 1. 1. 1. 1. 1. 1. 1. 1. 2. 1. 2. 1. 2. 1. 1.\n",
      " 1. 1. 1. 2. 2. 1. 1. 1. 1. 1. 1. 1. 2. 1. 1. 2. 1. 1. 2. 1. 1. 2. 1. 1.\n",
      " 1. 1. 1. 1. 1. 1. 2. 2. 1. 2. 1. 1. 1. 1. 2. 2. 2. 1. 1. 2. 1. 1. 1. 1.\n",
      " 1. 1. 1. 2. 1. 1. 1. 1. 1. 1. 1. 1. 1. 1. 2. 2. 1. 1. 1. 1. 1. 1. 1. 1.\n",
      " 1. 1. 1. 1. 1. 1. 1. 1. 1. 1. 1. 2. 1. 1. 1. 1. 2. 1. 1. 1. 1. 1. 2. 1.\n",
      " 2. 2. 1. 1. 1. 1. 1. 1. 1. 2. 1. 2. 1. 2. 1. 2. 1. 2. 2. 2. 1. 1. 1. 1.\n",
      " 1. 1. 1. 1. 1. 2. 1. 1. 2. 1. 1. 1. 1. 2. 2. 1. 1. 1. 1. 2. 1. 1. 1. 1.\n",
      " 1. 1. 1. 1. 1. 2. 2. 2. 1. 1. 1. 2. 1. 1. 1. 1. 1. 1. 2. 1. 1. 2. 2. 2.\n",
      " 1. 2. 1. 1. 1. 1. 1. 1. 1. 1. 1. 1. 1. 1. 1. 1. 1. 1. 2. 1. 1. 1. 1. 1.\n",
      " 2. 2. 2. 2. 1. 2. 1. 2. 2. 1. 1. 2. 1. 2. 1. 1. 1. 1. 1. 1. 1. 1. 1. 2.\n",
      " 2. 1. 1. 1. 1. 1. 2. 2. 1. 1. 1. 2. 1. 1. 1. 1. 1. 1. 1. 1. 1. 1. 1. 1.\n",
      " 1. 2. 1. 1. 1. 1. 2. 1. 2. 1. 1. 1. 1.]\n"
     ]
    }
   ],
   "source": [
    "print(actual_label)"
   ]
  },
  {
   "cell_type": "code",
   "execution_count": 37,
   "metadata": {},
   "outputs": [
    {
     "data": {
      "image/png": "[encoded data removed]",
      "text/plain": [
       "<Figure size 864x576 with 1 Axes>"
      ]
     },
     "metadata": {
      "needs_background": "light"
     },
     "output_type": "display_data"
    }
   ],
   "source": [
    "actual_label_new = [1 if i==1 else 0 for i in actual_label]\n",
    "cluster_split_data = cluster_split(data_features, actual_label_new, 2)\n",
    "\n",
    "plot_data(cluster_split_data)"
   ]
  },
  {
   "cell_type": "code",
   "execution_count": null,
   "metadata": {},
   "outputs": [],
   "source": []
  }
 ],
 "metadata": {
  "kernelspec": {
   "display_name": "Python 3",
   "language": "python",
   "name": "python3"
  },
  "language_info": {
   "codemirror_mode": {
    "name": "ipython",
    "version": 3
   },
   "file_extension": ".py",
   "mimetype": "text/x-python",
   "name": "python",
   "nbconvert_exporter": "python",
   "pygments_lexer": "ipython3",
   "version": "3.7.6"
  }
 },
 "nbformat": 4,
 "nbformat_minor": 4
}
